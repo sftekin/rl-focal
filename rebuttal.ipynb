{
 "cells": [
  {
   "cell_type": "markdown",
   "metadata": {},
   "source": [
    "# Rebuttal Experiments"
   ]
  },
  {
   "cell_type": "markdown",
   "metadata": {},
   "source": [
    "## GSM8k Experiments"
   ]
  },
  {
   "cell_type": "markdown",
   "metadata": {},
   "source": [
    "We are running MARL-Focal on GSM8k dataset using the same model pool with LLM-TOPLA:\n",
    "\n",
    "```\n",
    "['Llama-2-13b-hf', 'Llama-2-70b-hf', 'Llama-2-7b-hf', 'Mistral-7B-Instruct-v0.2', 'Mixtral-8x7B-v0.1', 'gemma-2b', 'gemma-7b', 'phi-2']\n",
    "```\n",
    "\n",
    "Here we are running experiments 5 times and report the mean accurcy in test set."
   ]
  },
  {
   "cell_type": "code",
   "execution_count": 1,
   "metadata": {},
   "outputs": [],
   "source": [
    "import sys\n",
    "import argparse\n",
    "\n",
    "# Running with the same model pool as LLM-TOPLA.\n",
    "parser = argparse.ArgumentParser()\n",
    "\n",
    "parser.add_argument(\"--device\", type=str, default=\"cuda\")\n",
    "parser.add_argument(\"--model_names\", type=str, default=\"all\")\n",
    "parser.add_argument(\"--dataset_type\", type=str, default=\"lang\", choices=[\"lang\", \"vision\"])\n",
    "parser.add_argument(\"--task_name\", type=str, default=\"gsm8k\", choices=[\"gsm8k\", \"mmlu_hf\", \"bbh\", \"gpqa\", \"musr\"])\n",
    "\n",
    "# select agent arguments\n",
    "parser.add_argument(\"--alpha\", type=float, default=1.0, help=\"size penalty constant\")\n",
    "parser.add_argument(\"--select_agent_epoch\", type=int, default=10)\n",
    "parser.add_argument(\"--select_agent_gamma\", type=float, default=0.99)\n",
    "parser.add_argument(\"--select_agent_clip_epsilon\", type=float, default=0.2)\n",
    "parser.add_argument(\"--select_agent_lr\", type=float, default=0.001)\n",
    "parser.add_argument(\"--focal_div_weight\", type=float, default=0.5)\n",
    "parser.add_argument(\"--plurality_voting_weight\", type=float, default=0.5)\n",
    "parser.add_argument(\"--fleiss_kappa_weight\", type=float, default=0)\n",
    "parser.add_argument(\"--q_stats_weight\", type=float, default=0)\n",
    "parser.add_argument(\"--corr_coef_weight\", type=float, default=0)\n",
    "parser.add_argument(\"--binary_disagreement_weight\", type=float, default=0)\n",
    "parser.add_argument(\"--kappa_stats_weight\", type=float, default=0)\n",
    "parser.add_argument(\"--binary_entropy_weight\", type=float, default=0)\n",
    "\n",
    "# ensemble agent arguments\n",
    "parser.add_argument(\"--ensemble_agent_epoch\", type=int, default=10)\n",
    "parser.add_argument(\"--ens_agent_gamma\", type=float, default=0.5)\n",
    "parser.add_argument(\"--ens_agent_clip_epsilon\", type=float, default=0.2)\n",
    "parser.add_argument(\"--ens_agent_lr\", type=float, default=0.001)\n",
    "\n",
    "# common argumentss for both agents\n",
    "parser.add_argument(\"--window_size\", type=int, default=500)\n",
    "parser.add_argument(\"--max_tolerance\", type=int, default=150)\n",
    "parser.add_argument(\"--update_freq\", type=int, default=100)\n",
    "\n",
    "\n",
    "# Simulate command-line arguments\n",
    "if 'ipykernel' in sys.modules:\n",
    "    sys.argv = ['notebook.py']  # Replace with desired arguments\n",
    "else:\n",
    "    sys.argv = ['script.py']\n",
    "\n",
    "# Parse the arguments\n",
    "args = parser.parse_args()"
   ]
  },
  {
   "cell_type": "code",
   "execution_count": 2,
   "metadata": {},
   "outputs": [
    {
     "name": "stderr",
     "output_type": "stream",
     "text": [
      "/home/hice1/stekin6/.conda/envs/llamas/lib/python3.9/site-packages/tqdm/auto.py:21: TqdmWarning: IProgress not found. Please update jupyter and ipywidgets. See https://ipywidgets.readthedocs.io/en/stable/user_install.html\n",
      "  from .autonotebook import tqdm as notebook_tqdm\n"
     ]
    },
    {
     "name": "stdout",
     "output_type": "stream",
     "text": [
      "['Llama-2-13b-chat-hf', 'Llama-2-70b-chat-hf', 'Llama-2-7b-chat-hf', 'Mistral-7B-Instruct-v0.2', 'Mixtral-8x7B-Instruct-v0.1', 'gemma-2b', 'gemma-7b', 'phi-2']\n",
      "Truncating the space size\n",
      "Truncating the space size\n",
      "Dataset-0: gsm8k\n"
     ]
    },
    {
     "name": "stderr",
     "output_type": "stream",
     "text": [
      "100%|██████████| 2748/2748 [02:40<00:00, 17.15it/s]\n"
     ]
    },
    {
     "name": "stdout",
     "output_type": "stream",
     "text": [
      "Episode: 0, Total Acc: 72.48%, Action Counts: [2095. 1966. 1165.  489. 1297. 1550. 2045. 1336.], Avg Inf Time: 0.05776s\n"
     ]
    },
    {
     "name": "stderr",
     "output_type": "stream",
     "text": [
      "100%|██████████| 2748/2748 [02:27<00:00, 18.61it/s]\n"
     ]
    },
    {
     "name": "stdout",
     "output_type": "stream",
     "text": [
      "Episode: 1, Total Acc: 74.12%, Action Counts: [2166. 1710.  734.  458. 1469. 1282. 2315. 1353.], Avg Inf Time: 0.05331s\n"
     ]
    },
    {
     "name": "stderr",
     "output_type": "stream",
     "text": [
      "100%|██████████| 2748/2748 [02:26<00:00, 18.70it/s]\n"
     ]
    },
    {
     "name": "stdout",
     "output_type": "stream",
     "text": [
      "Episode: 2, Total Acc: 73.83%, Action Counts: [2008. 1601.  515.  567. 1312. 1112. 2422. 1302.], Avg Inf Time: 0.05313s\n"
     ]
    },
    {
     "name": "stderr",
     "output_type": "stream",
     "text": [
      "100%|██████████| 2748/2748 [02:27<00:00, 18.65it/s]\n"
     ]
    },
    {
     "name": "stdout",
     "output_type": "stream",
     "text": [
      "Episode: 3, Total Acc: 75.25%, Action Counts: [1787. 1601.  393.  358. 1580. 1569. 2551. 1461.], Avg Inf Time: 0.05325s\n"
     ]
    },
    {
     "name": "stderr",
     "output_type": "stream",
     "text": [
      "100%|██████████| 2748/2748 [02:27<00:00, 18.69it/s]\n"
     ]
    },
    {
     "name": "stdout",
     "output_type": "stream",
     "text": [
      "Episode: 4, Total Acc: 76.27%, Action Counts: [1081. 1493.  365.  244. 2068. 2091. 2549. 2045.], Avg Inf Time: 0.05312s\n"
     ]
    },
    {
     "name": "stderr",
     "output_type": "stream",
     "text": [
      "100%|██████████| 2748/2748 [02:26<00:00, 18.77it/s]\n"
     ]
    },
    {
     "name": "stdout",
     "output_type": "stream",
     "text": [
      "Episode: 5, Total Acc: 76.70%, Action Counts: [ 610. 1521.  354.  146. 2017. 2169. 2463. 2174.], Avg Inf Time: 0.05294s\n"
     ]
    },
    {
     "name": "stderr",
     "output_type": "stream",
     "text": [
      "100%|██████████| 2748/2748 [02:26<00:00, 18.72it/s]\n"
     ]
    },
    {
     "name": "stdout",
     "output_type": "stream",
     "text": [
      "Episode: 6, Total Acc: 76.70%, Action Counts: [ 544. 1713.  341.   93. 2069. 2271. 2555. 2195.], Avg Inf Time: 0.05309s\n"
     ]
    },
    {
     "name": "stderr",
     "output_type": "stream",
     "text": [
      "100%|██████████| 2748/2748 [02:26<00:00, 18.76it/s]\n"
     ]
    },
    {
     "name": "stdout",
     "output_type": "stream",
     "text": [
      "Episode: 7, Total Acc: 76.92%, Action Counts: [ 500. 1597.  251.   76. 2328. 2402. 2636. 1988.], Avg Inf Time: 0.05295s\n"
     ]
    },
    {
     "name": "stderr",
     "output_type": "stream",
     "text": [
      "100%|██████████| 2748/2748 [02:26<00:00, 18.73it/s]\n"
     ]
    },
    {
     "name": "stdout",
     "output_type": "stream",
     "text": [
      "Episode: 8, Total Acc: 76.67%, Action Counts: [ 505. 1852.  188.   70. 2348. 2464. 2687. 1927.], Avg Inf Time: 0.05299s\n"
     ]
    },
    {
     "name": "stderr",
     "output_type": "stream",
     "text": [
      "100%|██████████| 2748/2748 [02:26<00:00, 18.80it/s]\n"
     ]
    },
    {
     "name": "stdout",
     "output_type": "stream",
     "text": [
      "Episode: 9, Total Acc: 75.68%, Action Counts: [ 589. 2005.  231.   91. 2202. 2470. 2694. 1472.], Avg Inf Time: 0.05285s\n"
     ]
    },
    {
     "name": "stderr",
     "output_type": "stream",
     "text": [
      "100%|██████████| 2748/2748 [01:52<00:00, 24.47it/s]\n"
     ]
    },
    {
     "name": "stdout",
     "output_type": "stream",
     "text": [
      "Episode: 0, Total Acc: 1.42%, Action Counts: [ 562. 2056.  257.   78. 2299. 2457. 2673. 1046.], Avg Inf Time: 0.04052s\n"
     ]
    },
    {
     "name": "stderr",
     "output_type": "stream",
     "text": [
      "100%|██████████| 2748/2748 [01:51<00:00, 24.56it/s]\n"
     ]
    },
    {
     "name": "stdout",
     "output_type": "stream",
     "text": [
      "Episode: 1, Total Acc: 1.42%, Action Counts: [ 570. 2038.  265.   79. 2263. 2467. 2679. 1075.], Avg Inf Time: 0.04034s\n"
     ]
    },
    {
     "name": "stderr",
     "output_type": "stream",
     "text": [
      "100%|██████████| 2748/2748 [01:50<00:00, 24.89it/s]\n"
     ]
    },
    {
     "name": "stdout",
     "output_type": "stream",
     "text": [
      "Episode: 2, Total Acc: 1.42%, Action Counts: [ 542. 2070.  260.   81. 2283. 2429. 2671. 1029.], Avg Inf Time: 0.03977s\n"
     ]
    },
    {
     "name": "stderr",
     "output_type": "stream",
     "text": [
      "100%|██████████| 2748/2748 [01:49<00:00, 25.13it/s]\n"
     ]
    },
    {
     "name": "stdout",
     "output_type": "stream",
     "text": [
      "Episode: 3, Total Acc: 1.42%, Action Counts: [ 563. 2066.  293.   76. 2286. 2468. 2671. 1016.], Avg Inf Time: 0.03944s\n"
     ]
    },
    {
     "name": "stderr",
     "output_type": "stream",
     "text": [
      "100%|██████████| 2748/2748 [01:49<00:00, 25.00it/s]\n"
     ]
    },
    {
     "name": "stdout",
     "output_type": "stream",
     "text": [
      "Episode: 4, Total Acc: 1.42%, Action Counts: [ 594. 2068.  232.   67. 2256. 2435. 2682. 1048.], Avg Inf Time: 0.03961s\n"
     ]
    },
    {
     "name": "stderr",
     "output_type": "stream",
     "text": [
      "100%|██████████| 2748/2748 [01:50<00:00, 24.92it/s]\n"
     ]
    },
    {
     "name": "stdout",
     "output_type": "stream",
     "text": [
      "Episode: 5, Total Acc: 1.42%, Action Counts: [ 534. 2071.  238.   94. 2265. 2463. 2685. 1036.], Avg Inf Time: 0.03979s\n"
     ]
    },
    {
     "name": "stderr",
     "output_type": "stream",
     "text": [
      "100%|██████████| 2748/2748 [01:50<00:00, 24.83it/s]\n"
     ]
    },
    {
     "name": "stdout",
     "output_type": "stream",
     "text": [
      "Episode: 6, Total Acc: 1.46%, Action Counts: [ 532. 2058.  269.  108. 2302. 2474. 2682. 1058.], Avg Inf Time: 0.03992s\n"
     ]
    },
    {
     "name": "stderr",
     "output_type": "stream",
     "text": [
      "100%|██████████| 2748/2748 [01:50<00:00, 24.80it/s]\n"
     ]
    },
    {
     "name": "stdout",
     "output_type": "stream",
     "text": [
      "Episode: 7, Total Acc: 20.79%, Action Counts: [ 573. 2089.  254.   86. 2301. 2450. 2678. 1002.], Avg Inf Time: 0.03998s\n"
     ]
    },
    {
     "name": "stderr",
     "output_type": "stream",
     "text": [
      "100%|██████████| 2748/2748 [01:50<00:00, 24.81it/s]\n"
     ]
    },
    {
     "name": "stdout",
     "output_type": "stream",
     "text": [
      "Episode: 8, Total Acc: 76.08%, Action Counts: [ 577. 2064.  275.   83. 2279. 2448. 2685. 1075.], Avg Inf Time: 0.03995s\n"
     ]
    },
    {
     "name": "stderr",
     "output_type": "stream",
     "text": [
      "100%|██████████| 2748/2748 [01:50<00:00, 24.95it/s]\n"
     ]
    },
    {
     "name": "stdout",
     "output_type": "stream",
     "text": [
      "Episode: 9, Total Acc: 76.08%, Action Counts: [ 577. 2036.  282.   76. 2289. 2466. 2678. 1050.], Avg Inf Time: 0.03973s\n",
      "Starting testing\n"
     ]
    },
    {
     "name": "stderr",
     "output_type": "stream",
     "text": [
      "100%|██████████| 1240/1240 [01:12<00:00, 17.11it/s]\n"
     ]
    },
    {
     "name": "stdout",
     "output_type": "stream",
     "text": [
      "Episode: 0, Total Acc: 76.43%, Action Counts: [ 234.  975.   74.   30. 1038. 1135. 1206.  641.], Avg Inf Time: 0.05809s\n",
      "\n",
      "\n",
      "Test Acc: 76.43%\n",
      "Data is saved...\n",
      "['Llama-2-13b-chat-hf', 'Llama-2-70b-chat-hf', 'Llama-2-7b-chat-hf', 'Mistral-7B-Instruct-v0.2', 'Mixtral-8x7B-Instruct-v0.1', 'gemma-2b', 'gemma-7b', 'phi-2']\n",
      "Truncating the space size\n",
      "Truncating the space size\n",
      "Dataset-0: gsm8k\n"
     ]
    },
    {
     "name": "stderr",
     "output_type": "stream",
     "text": [
      "100%|██████████| 2748/2748 [02:23<00:00, 19.13it/s]\n"
     ]
    },
    {
     "name": "stdout",
     "output_type": "stream",
     "text": [
      "Episode: 0, Total Acc: 68.22%, Action Counts: [1581. 1481. 1323. 1167.  614. 1633. 1305. 1317.], Avg Inf Time: 0.05195s\n"
     ]
    },
    {
     "name": "stderr",
     "output_type": "stream",
     "text": [
      "100%|██████████| 2748/2748 [02:23<00:00, 19.08it/s]\n"
     ]
    },
    {
     "name": "stdout",
     "output_type": "stream",
     "text": [
      "Episode: 1, Total Acc: 69.53%, Action Counts: [1486. 1696. 1176. 1416.  734. 1570. 1183. 1225.], Avg Inf Time: 0.0521s\n"
     ]
    },
    {
     "name": "stderr",
     "output_type": "stream",
     "text": [
      "100%|██████████| 2748/2748 [02:23<00:00, 19.09it/s]\n"
     ]
    },
    {
     "name": "stdout",
     "output_type": "stream",
     "text": [
      "Episode: 2, Total Acc: 70.00%, Action Counts: [1673. 1810. 1114. 1515. 1265. 1608. 1125. 1118.], Avg Inf Time: 0.0521s\n"
     ]
    },
    {
     "name": "stderr",
     "output_type": "stream",
     "text": [
      "100%|██████████| 2748/2748 [02:24<00:00, 19.01it/s]\n"
     ]
    },
    {
     "name": "stdout",
     "output_type": "stream",
     "text": [
      "Episode: 3, Total Acc: 72.26%, Action Counts: [1523. 1756.  980. 1709. 1721. 1319. 1260.  905.], Avg Inf Time: 0.05227s\n"
     ]
    },
    {
     "name": "stderr",
     "output_type": "stream",
     "text": [
      "100%|██████████| 2748/2748 [02:24<00:00, 19.08it/s]\n"
     ]
    },
    {
     "name": "stdout",
     "output_type": "stream",
     "text": [
      "Episode: 4, Total Acc: 74.08%, Action Counts: [1628. 1889.  611. 1774. 2144. 1140. 1490. 1354.], Avg Inf Time: 0.05209s\n"
     ]
    },
    {
     "name": "stderr",
     "output_type": "stream",
     "text": [
      "100%|██████████| 2748/2748 [02:23<00:00, 19.13it/s]\n"
     ]
    },
    {
     "name": "stdout",
     "output_type": "stream",
     "text": [
      "Episode: 5, Total Acc: 76.23%, Action Counts: [1362. 2269.  571. 2163. 2309. 1099. 1892. 1872.], Avg Inf Time: 0.05195s\n"
     ]
    },
    {
     "name": "stderr",
     "output_type": "stream",
     "text": [
      "100%|██████████| 2748/2748 [02:23<00:00, 19.12it/s]\n"
     ]
    },
    {
     "name": "stdout",
     "output_type": "stream",
     "text": [
      "Episode: 6, Total Acc: 75.76%, Action Counts: [1262. 2471.  756. 2127. 2302.  955. 1781. 1984.], Avg Inf Time: 0.05201s\n"
     ]
    },
    {
     "name": "stderr",
     "output_type": "stream",
     "text": [
      "100%|██████████| 2748/2748 [02:24<00:00, 19.07it/s]\n"
     ]
    },
    {
     "name": "stdout",
     "output_type": "stream",
     "text": [
      "Episode: 7, Total Acc: 76.34%, Action Counts: [ 868. 2570. 1264. 1561. 2356. 1350. 1818. 2154.], Avg Inf Time: 0.05214s\n"
     ]
    },
    {
     "name": "stderr",
     "output_type": "stream",
     "text": [
      "100%|██████████| 2748/2748 [02:25<00:00, 18.82it/s]\n"
     ]
    },
    {
     "name": "stdout",
     "output_type": "stream",
     "text": [
      "Episode: 8, Total Acc: 76.41%, Action Counts: [ 858. 2661. 1380. 1690. 2472. 2054. 2211. 2309.], Avg Inf Time: 0.05256s\n"
     ]
    },
    {
     "name": "stderr",
     "output_type": "stream",
     "text": [
      "100%|██████████| 2748/2748 [02:25<00:00, 18.85it/s]\n"
     ]
    },
    {
     "name": "stdout",
     "output_type": "stream",
     "text": [
      "Episode: 9, Total Acc: 76.96%, Action Counts: [ 712. 2691. 1233. 2066. 2588. 1993. 2251. 2525.], Avg Inf Time: 0.05282s\n"
     ]
    },
    {
     "name": "stderr",
     "output_type": "stream",
     "text": [
      "100%|██████████| 2748/2748 [01:48<00:00, 25.44it/s]\n"
     ]
    },
    {
     "name": "stdout",
     "output_type": "stream",
     "text": [
      "Episode: 0, Total Acc: 3.13%, Action Counts: [1015. 2709.  845. 2190. 2566. 1888. 2139. 2559.], Avg Inf Time: 0.03903s\n"
     ]
    },
    {
     "name": "stderr",
     "output_type": "stream",
     "text": [
      "100%|██████████| 2748/2748 [01:48<00:00, 25.37it/s]\n"
     ]
    },
    {
     "name": "stdout",
     "output_type": "stream",
     "text": [
      "Episode: 1, Total Acc: 3.13%, Action Counts: [1018. 2713.  806. 2208. 2540. 1908. 2176. 2564.], Avg Inf Time: 0.03911s\n"
     ]
    },
    {
     "name": "stderr",
     "output_type": "stream",
     "text": [
      "100%|██████████| 2748/2748 [01:48<00:00, 25.44it/s]\n"
     ]
    },
    {
     "name": "stdout",
     "output_type": "stream",
     "text": [
      "Episode: 2, Total Acc: 3.13%, Action Counts: [1082. 2718.  823. 2165. 2532. 1908. 2143. 2571.], Avg Inf Time: 0.03902s\n"
     ]
    },
    {
     "name": "stderr",
     "output_type": "stream",
     "text": [
      "100%|██████████| 2748/2748 [01:48<00:00, 25.30it/s]\n"
     ]
    },
    {
     "name": "stdout",
     "output_type": "stream",
     "text": [
      "Episode: 3, Total Acc: 3.17%, Action Counts: [1025. 2709.  797. 2218. 2517. 1896. 2158. 2586.], Avg Inf Time: 0.03921s\n"
     ]
    },
    {
     "name": "stderr",
     "output_type": "stream",
     "text": [
      "100%|██████████| 2748/2748 [01:49<00:00, 25.18it/s]\n"
     ]
    },
    {
     "name": "stdout",
     "output_type": "stream",
     "text": [
      "Episode: 4, Total Acc: 3.13%, Action Counts: [ 994. 2701.  764. 2189. 2548. 1945. 2184. 2586.], Avg Inf Time: 0.03935s\n"
     ]
    },
    {
     "name": "stderr",
     "output_type": "stream",
     "text": [
      "100%|██████████| 2748/2748 [01:48<00:00, 25.29it/s]\n"
     ]
    },
    {
     "name": "stdout",
     "output_type": "stream",
     "text": [
      "Episode: 5, Total Acc: 3.13%, Action Counts: [1041. 2697.  777. 2178. 2540. 1920. 2189. 2564.], Avg Inf Time: 0.03921s\n"
     ]
    },
    {
     "name": "stderr",
     "output_type": "stream",
     "text": [
      "100%|██████████| 2748/2748 [01:48<00:00, 25.40it/s]\n"
     ]
    },
    {
     "name": "stdout",
     "output_type": "stream",
     "text": [
      "Episode: 6, Total Acc: 13.69%, Action Counts: [1065. 2716.  807. 2176. 2544. 1933. 2187. 2586.], Avg Inf Time: 0.03905s\n"
     ]
    },
    {
     "name": "stderr",
     "output_type": "stream",
     "text": [
      "100%|██████████| 2748/2748 [01:48<00:00, 25.43it/s]\n"
     ]
    },
    {
     "name": "stdout",
     "output_type": "stream",
     "text": [
      "Episode: 7, Total Acc: 76.08%, Action Counts: [ 997. 2707.  827. 2171. 2570. 1854. 2171. 2574.], Avg Inf Time: 0.03905s\n"
     ]
    },
    {
     "name": "stderr",
     "output_type": "stream",
     "text": [
      "100%|██████████| 2748/2748 [01:49<00:00, 25.20it/s]\n"
     ]
    },
    {
     "name": "stdout",
     "output_type": "stream",
     "text": [
      "Episode: 8, Total Acc: 76.08%, Action Counts: [1059. 2709.  785. 2198. 2559. 1931. 2174. 2587.], Avg Inf Time: 0.0394s\n"
     ]
    },
    {
     "name": "stderr",
     "output_type": "stream",
     "text": [
      "100%|██████████| 2748/2748 [01:49<00:00, 25.19it/s]\n"
     ]
    },
    {
     "name": "stdout",
     "output_type": "stream",
     "text": [
      "Episode: 9, Total Acc: 76.01%, Action Counts: [ 967. 2714.  832. 2160. 2528. 1895. 2162. 2537.], Avg Inf Time: 0.03942s\n",
      "Starting testing\n"
     ]
    },
    {
     "name": "stderr",
     "output_type": "stream",
     "text": [
      "100%|██████████| 1240/1240 [01:11<00:00, 17.46it/s]\n"
     ]
    },
    {
     "name": "stdout",
     "output_type": "stream",
     "text": [
      "Episode: 0, Total Acc: 77.32%, Action Counts: [ 346. 1213.  299. 1069. 1113.  898.  906. 1158.], Avg Inf Time: 0.057s\n",
      "\n",
      "\n",
      "Test Acc: 77.32%\n",
      "Data is saved...\n",
      "['Llama-2-13b-chat-hf', 'Llama-2-70b-chat-hf', 'Llama-2-7b-chat-hf', 'Mistral-7B-Instruct-v0.2', 'Mixtral-8x7B-Instruct-v0.1', 'gemma-2b', 'gemma-7b', 'phi-2']\n",
      "Truncating the space size\n",
      "Truncating the space size\n",
      "Dataset-0: gsm8k\n"
     ]
    },
    {
     "name": "stderr",
     "output_type": "stream",
     "text": [
      "100%|██████████| 2748/2748 [02:21<00:00, 19.41it/s]\n"
     ]
    },
    {
     "name": "stdout",
     "output_type": "stream",
     "text": [
      "Episode: 0, Total Acc: 71.86%, Action Counts: [ 874. 1367. 1201.  898. 1093. 1659. 1757. 1207.], Avg Inf Time: 0.05127s\n"
     ]
    },
    {
     "name": "stderr",
     "output_type": "stream",
     "text": [
      "100%|██████████| 2748/2748 [02:21<00:00, 19.42it/s]\n"
     ]
    },
    {
     "name": "stdout",
     "output_type": "stream",
     "text": [
      "Episode: 1, Total Acc: 70.88%, Action Counts: [ 689. 1261. 1091.  720.  888. 2032. 2038. 1165.], Avg Inf Time: 0.05127s\n"
     ]
    },
    {
     "name": "stderr",
     "output_type": "stream",
     "text": [
      "100%|██████████| 2748/2748 [02:21<00:00, 19.41it/s]\n"
     ]
    },
    {
     "name": "stdout",
     "output_type": "stream",
     "text": [
      "Episode: 2, Total Acc: 71.24%, Action Counts: [ 748. 1544. 1227.  737.  583. 1860. 1950. 1609.], Avg Inf Time: 0.0513s\n"
     ]
    },
    {
     "name": "stderr",
     "output_type": "stream",
     "text": [
      "100%|██████████| 2748/2748 [02:21<00:00, 19.45it/s]\n"
     ]
    },
    {
     "name": "stdout",
     "output_type": "stream",
     "text": [
      "Episode: 3, Total Acc: 73.10%, Action Counts: [ 739. 1730. 1368.  618.  379. 1734. 2148. 1955.], Avg Inf Time: 0.05121s\n"
     ]
    },
    {
     "name": "stderr",
     "output_type": "stream",
     "text": [
      "100%|██████████| 2748/2748 [02:21<00:00, 19.37it/s]\n"
     ]
    },
    {
     "name": "stdout",
     "output_type": "stream",
     "text": [
      "Episode: 4, Total Acc: 72.62%, Action Counts: [ 995. 1950. 1427.  619.  456. 1704. 2212. 2048.], Avg Inf Time: 0.05142s\n"
     ]
    },
    {
     "name": "stderr",
     "output_type": "stream",
     "text": [
      "100%|██████████| 2748/2748 [02:21<00:00, 19.38it/s]\n"
     ]
    },
    {
     "name": "stdout",
     "output_type": "stream",
     "text": [
      "Episode: 5, Total Acc: 72.26%, Action Counts: [1606. 2009. 1720.  603.  685. 1914. 2044. 2196.], Avg Inf Time: 0.05138s\n"
     ]
    },
    {
     "name": "stderr",
     "output_type": "stream",
     "text": [
      "100%|██████████| 2748/2748 [02:21<00:00, 19.39it/s]\n"
     ]
    },
    {
     "name": "stdout",
     "output_type": "stream",
     "text": [
      "Episode: 6, Total Acc: 73.35%, Action Counts: [1887. 2095. 2389.  681. 1586. 2180. 2178. 2578.], Avg Inf Time: 0.05134s\n"
     ]
    },
    {
     "name": "stderr",
     "output_type": "stream",
     "text": [
      "100%|██████████| 2748/2748 [02:21<00:00, 19.38it/s]\n"
     ]
    },
    {
     "name": "stdout",
     "output_type": "stream",
     "text": [
      "Episode: 7, Total Acc: 75.03%, Action Counts: [1633. 1563. 2504.  500. 2385. 2238. 2224. 2608.], Avg Inf Time: 0.05139s\n"
     ]
    },
    {
     "name": "stderr",
     "output_type": "stream",
     "text": [
      "100%|██████████| 2748/2748 [02:21<00:00, 19.41it/s]\n"
     ]
    },
    {
     "name": "stdout",
     "output_type": "stream",
     "text": [
      "Episode: 8, Total Acc: 73.57%, Action Counts: [1566.  816. 2543.  313. 2297. 2487. 2232. 2647.], Avg Inf Time: 0.05131s\n"
     ]
    },
    {
     "name": "stderr",
     "output_type": "stream",
     "text": [
      "100%|██████████| 2748/2748 [02:21<00:00, 19.38it/s]\n"
     ]
    },
    {
     "name": "stdout",
     "output_type": "stream",
     "text": [
      "Episode: 9, Total Acc: 73.61%, Action Counts: [1653.  630. 2575.  235. 1807. 2275. 2426. 2656.], Avg Inf Time: 0.05136s\n"
     ]
    },
    {
     "name": "stderr",
     "output_type": "stream",
     "text": [
      "100%|██████████| 2748/2748 [01:48<00:00, 25.31it/s]\n"
     ]
    },
    {
     "name": "stdout",
     "output_type": "stream",
     "text": [
      "Episode: 0, Total Acc: 42.37%, Action Counts: [1674.  499. 2530.  304. 1516. 2279. 2491. 2636.], Avg Inf Time: 0.03924s\n"
     ]
    },
    {
     "name": "stderr",
     "output_type": "stream",
     "text": [
      "100%|██████████| 2748/2748 [01:48<00:00, 25.28it/s]\n"
     ]
    },
    {
     "name": "stdout",
     "output_type": "stream",
     "text": [
      "Episode: 1, Total Acc: 76.08%, Action Counts: [1682.  463. 2556.  291. 1506. 2288. 2464. 2629.], Avg Inf Time: 0.03928s\n"
     ]
    },
    {
     "name": "stderr",
     "output_type": "stream",
     "text": [
      "100%|██████████| 2748/2748 [01:49<00:00, 25.17it/s]\n"
     ]
    },
    {
     "name": "stdout",
     "output_type": "stream",
     "text": [
      "Episode: 2, Total Acc: 76.05%, Action Counts: [1694.  503. 2556.  300. 1479. 2278. 2439. 2610.], Avg Inf Time: 0.03946s\n"
     ]
    },
    {
     "name": "stderr",
     "output_type": "stream",
     "text": [
      "100%|██████████| 2748/2748 [01:48<00:00, 25.30it/s]\n"
     ]
    },
    {
     "name": "stdout",
     "output_type": "stream",
     "text": [
      "Episode: 3, Total Acc: 76.23%, Action Counts: [1709.  493. 2567.  282. 1445. 2255. 2447. 2615.], Avg Inf Time: 0.03924s\n"
     ]
    },
    {
     "name": "stderr",
     "output_type": "stream",
     "text": [
      "100%|██████████| 2748/2748 [01:48<00:00, 25.24it/s]\n"
     ]
    },
    {
     "name": "stdout",
     "output_type": "stream",
     "text": [
      "Episode: 4, Total Acc: 76.05%, Action Counts: [1689.  502. 2545.  295. 1501. 2278. 2445. 2617.], Avg Inf Time: 0.03932s\n"
     ]
    },
    {
     "name": "stderr",
     "output_type": "stream",
     "text": [
      "100%|██████████| 2748/2748 [01:48<00:00, 25.23it/s]\n"
     ]
    },
    {
     "name": "stdout",
     "output_type": "stream",
     "text": [
      "Episode: 5, Total Acc: 76.34%, Action Counts: [1702.  504. 2557.  301. 1433. 2276. 2484. 2640.], Avg Inf Time: 0.03936s\n"
     ]
    },
    {
     "name": "stderr",
     "output_type": "stream",
     "text": [
      "100%|██████████| 2748/2748 [01:49<00:00, 25.06it/s]\n"
     ]
    },
    {
     "name": "stdout",
     "output_type": "stream",
     "text": [
      "Episode: 6, Total Acc: 75.90%, Action Counts: [1674.  474. 2577.  278. 1491. 2283. 2465. 2626.], Avg Inf Time: 0.0396s\n"
     ]
    },
    {
     "name": "stderr",
     "output_type": "stream",
     "text": [
      "100%|██████████| 2748/2748 [01:50<00:00, 24.79it/s]\n"
     ]
    },
    {
     "name": "stdout",
     "output_type": "stream",
     "text": [
      "Episode: 7, Total Acc: 75.97%, Action Counts: [1742.  522. 2555.  278. 1464. 2285. 2433. 2622.], Avg Inf Time: 0.03988s\n"
     ]
    },
    {
     "name": "stderr",
     "output_type": "stream",
     "text": [
      "100%|██████████| 2748/2748 [01:48<00:00, 25.31it/s]\n"
     ]
    },
    {
     "name": "stdout",
     "output_type": "stream",
     "text": [
      "Episode: 8, Total Acc: 75.94%, Action Counts: [1686.  505. 2568.  290. 1497. 2262. 2439. 2624.], Avg Inf Time: 0.03923s\n"
     ]
    },
    {
     "name": "stderr",
     "output_type": "stream",
     "text": [
      "100%|██████████| 2748/2748 [01:48<00:00, 25.24it/s]\n"
     ]
    },
    {
     "name": "stdout",
     "output_type": "stream",
     "text": [
      "Episode: 9, Total Acc: 76.59%, Action Counts: [1695.  522. 2529.  311. 1494. 2258. 2461. 2631.], Avg Inf Time: 0.03934s\n",
      "Starting testing\n"
     ]
    },
    {
     "name": "stderr",
     "output_type": "stream",
     "text": [
      "100%|██████████| 1240/1240 [01:23<00:00, 14.89it/s]\n"
     ]
    },
    {
     "name": "stdout",
     "output_type": "stream",
     "text": [
      "Episode: 0, Total Acc: 74.09%, Action Counts: [ 656.  288. 1119.  176.  670. 1066. 1134. 1189.], Avg Inf Time: 0.06638s\n",
      "\n",
      "\n",
      "Test Acc: 74.09%\n",
      "Data is saved...\n",
      "['Llama-2-13b-chat-hf', 'Llama-2-70b-chat-hf', 'Llama-2-7b-chat-hf', 'Mistral-7B-Instruct-v0.2', 'Mixtral-8x7B-Instruct-v0.1', 'gemma-2b', 'gemma-7b', 'phi-2']\n",
      "Truncating the space size\n",
      "Truncating the space size\n",
      "Dataset-0: gsm8k\n"
     ]
    },
    {
     "name": "stderr",
     "output_type": "stream",
     "text": [
      "100%|██████████| 2748/2748 [02:21<00:00, 19.47it/s]\n"
     ]
    },
    {
     "name": "stdout",
     "output_type": "stream",
     "text": [
      "Episode: 0, Total Acc: 72.12%, Action Counts: [1768. 1411. 1466. 1867. 1253.  833. 1526. 1123.], Avg Inf Time: 0.05115s\n"
     ]
    },
    {
     "name": "stderr",
     "output_type": "stream",
     "text": [
      "100%|██████████| 2748/2748 [02:21<00:00, 19.43it/s]\n"
     ]
    },
    {
     "name": "stdout",
     "output_type": "stream",
     "text": [
      "Episode: 1, Total Acc: 71.79%, Action Counts: [1348. 1624. 1354. 2165. 1389.  609. 1430.  656.], Avg Inf Time: 0.05125s\n"
     ]
    },
    {
     "name": "stderr",
     "output_type": "stream",
     "text": [
      "100%|██████████| 2748/2748 [02:21<00:00, 19.46it/s]\n"
     ]
    },
    {
     "name": "stdout",
     "output_type": "stream",
     "text": [
      "Episode: 2, Total Acc: 72.66%, Action Counts: [ 820. 1896.  833. 2231. 1403.  564. 1513.  665.], Avg Inf Time: 0.05116s\n"
     ]
    },
    {
     "name": "stderr",
     "output_type": "stream",
     "text": [
      "100%|██████████| 2748/2748 [02:21<00:00, 19.46it/s]\n"
     ]
    },
    {
     "name": "stdout",
     "output_type": "stream",
     "text": [
      "Episode: 3, Total Acc: 72.73%, Action Counts: [ 510. 2217.  869. 2229. 1342.  552. 1192.  618.], Avg Inf Time: 0.05116s\n"
     ]
    },
    {
     "name": "stderr",
     "output_type": "stream",
     "text": [
      "100%|██████████| 2748/2748 [02:21<00:00, 19.48it/s]\n"
     ]
    },
    {
     "name": "stdout",
     "output_type": "stream",
     "text": [
      "Episode: 4, Total Acc: 73.24%, Action Counts: [ 454. 2269.  802. 2403. 1766.  406.  991.  418.], Avg Inf Time: 0.05109s\n"
     ]
    },
    {
     "name": "stderr",
     "output_type": "stream",
     "text": [
      "100%|██████████| 2748/2748 [02:20<00:00, 19.53it/s]\n"
     ]
    },
    {
     "name": "stdout",
     "output_type": "stream",
     "text": [
      "Episode: 5, Total Acc: 74.74%, Action Counts: [ 432. 2151.  781. 2508. 2123.  433.  722.  475.], Avg Inf Time: 0.05099s\n"
     ]
    },
    {
     "name": "stderr",
     "output_type": "stream",
     "text": [
      "100%|██████████| 2748/2748 [02:21<00:00, 19.41it/s]\n"
     ]
    },
    {
     "name": "stdout",
     "output_type": "stream",
     "text": [
      "Episode: 6, Total Acc: 75.25%, Action Counts: [ 263. 2199.  604. 2545. 2313.  483.  756.  585.], Avg Inf Time: 0.05131s\n"
     ]
    },
    {
     "name": "stderr",
     "output_type": "stream",
     "text": [
      "100%|██████████| 2748/2748 [02:22<00:00, 19.29it/s]\n"
     ]
    },
    {
     "name": "stdout",
     "output_type": "stream",
     "text": [
      "Episode: 7, Total Acc: 75.46%, Action Counts: [ 228. 2310.  538. 2522. 2520.  324.  937.  463.], Avg Inf Time: 0.05161s\n"
     ]
    },
    {
     "name": "stderr",
     "output_type": "stream",
     "text": [
      "100%|██████████| 2748/2748 [02:20<00:00, 19.50it/s]\n"
     ]
    },
    {
     "name": "stdout",
     "output_type": "stream",
     "text": [
      "Episode: 8, Total Acc: 76.52%, Action Counts: [ 170. 2346.  422. 2507. 2567.  245. 1011.  650.], Avg Inf Time: 0.05106s\n"
     ]
    },
    {
     "name": "stderr",
     "output_type": "stream",
     "text": [
      "100%|██████████| 2748/2748 [02:20<00:00, 19.50it/s]\n"
     ]
    },
    {
     "name": "stdout",
     "output_type": "stream",
     "text": [
      "Episode: 9, Total Acc: 76.96%, Action Counts: [ 198. 2257.  307. 2529. 2593.  295. 1062.  872.], Avg Inf Time: 0.05105s\n"
     ]
    },
    {
     "name": "stderr",
     "output_type": "stream",
     "text": [
      "100%|██████████| 2748/2748 [01:47<00:00, 25.53it/s]\n"
     ]
    },
    {
     "name": "stdout",
     "output_type": "stream",
     "text": [
      "Episode: 0, Total Acc: 66.95%, Action Counts: [ 158. 2310.  242. 2612. 2585.  292.  925. 1008.], Avg Inf Time: 0.03887s\n"
     ]
    },
    {
     "name": "stderr",
     "output_type": "stream",
     "text": [
      "100%|██████████| 2748/2748 [01:47<00:00, 25.52it/s]\n"
     ]
    },
    {
     "name": "stdout",
     "output_type": "stream",
     "text": [
      "Episode: 1, Total Acc: 76.08%, Action Counts: [ 158. 2312.  261. 2604. 2593.  313.  948. 1003.], Avg Inf Time: 0.0389s\n"
     ]
    },
    {
     "name": "stderr",
     "output_type": "stream",
     "text": [
      "100%|██████████| 2748/2748 [01:48<00:00, 25.40it/s]\n"
     ]
    },
    {
     "name": "stdout",
     "output_type": "stream",
     "text": [
      "Episode: 2, Total Acc: 75.90%, Action Counts: [ 149. 2309.  243. 2583. 2570.  297.  977.  948.], Avg Inf Time: 0.03908s\n"
     ]
    },
    {
     "name": "stderr",
     "output_type": "stream",
     "text": [
      "100%|██████████| 2748/2748 [01:47<00:00, 25.50it/s]\n"
     ]
    },
    {
     "name": "stdout",
     "output_type": "stream",
     "text": [
      "Episode: 3, Total Acc: 75.76%, Action Counts: [ 153. 2318.  242. 2614. 2602.  293.  963. 1081.], Avg Inf Time: 0.03892s\n"
     ]
    },
    {
     "name": "stderr",
     "output_type": "stream",
     "text": [
      "100%|██████████| 2748/2748 [01:47<00:00, 25.54it/s]\n"
     ]
    },
    {
     "name": "stdout",
     "output_type": "stream",
     "text": [
      "Episode: 4, Total Acc: 73.90%, Action Counts: [ 137. 2317.  228. 2592. 2599.  317.  920. 1048.], Avg Inf Time: 0.03886s\n"
     ]
    },
    {
     "name": "stderr",
     "output_type": "stream",
     "text": [
      "100%|██████████| 2748/2748 [01:47<00:00, 25.57it/s]\n"
     ]
    },
    {
     "name": "stdout",
     "output_type": "stream",
     "text": [
      "Episode: 5, Total Acc: 73.21%, Action Counts: [ 116. 2292.  230. 2593. 2602.  281.  991. 1058.], Avg Inf Time: 0.03882s\n"
     ]
    },
    {
     "name": "stderr",
     "output_type": "stream",
     "text": [
      "100%|██████████| 2748/2748 [01:47<00:00, 25.53it/s]\n"
     ]
    },
    {
     "name": "stdout",
     "output_type": "stream",
     "text": [
      "Episode: 6, Total Acc: 74.63%, Action Counts: [ 156. 2267.  203. 2614. 2576.  313.  963. 1017.], Avg Inf Time: 0.03887s\n"
     ]
    },
    {
     "name": "stderr",
     "output_type": "stream",
     "text": [
      "100%|██████████| 2748/2748 [01:47<00:00, 25.58it/s]\n"
     ]
    },
    {
     "name": "stdout",
     "output_type": "stream",
     "text": [
      "Episode: 7, Total Acc: 74.37%, Action Counts: [ 153. 2283.  197. 2588. 2574.  304. 1013. 1039.], Avg Inf Time: 0.03881s\n"
     ]
    },
    {
     "name": "stderr",
     "output_type": "stream",
     "text": [
      "100%|██████████| 2748/2748 [01:47<00:00, 25.47it/s]\n"
     ]
    },
    {
     "name": "stdout",
     "output_type": "stream",
     "text": [
      "Episode: 8, Total Acc: 73.72%, Action Counts: [ 164. 2289.  241. 2612. 2577.  335.  925.  972.], Avg Inf Time: 0.03895s\n"
     ]
    },
    {
     "name": "stderr",
     "output_type": "stream",
     "text": [
      "100%|██████████| 2748/2748 [01:48<00:00, 25.42it/s]\n"
     ]
    },
    {
     "name": "stdout",
     "output_type": "stream",
     "text": [
      "Episode: 9, Total Acc: 73.72%, Action Counts: [ 152. 2324.  239. 2613. 2580.  286.  961.  997.], Avg Inf Time: 0.03905s\n",
      "Starting testing\n"
     ]
    },
    {
     "name": "stderr",
     "output_type": "stream",
     "text": [
      "100%|██████████| 1240/1240 [01:10<00:00, 17.59it/s]\n"
     ]
    },
    {
     "name": "stdout",
     "output_type": "stream",
     "text": [
      "Episode: 0, Total Acc: 73.45%, Action Counts: [  84. 1045.  110. 1187. 1181.  115.  410.  463.], Avg Inf Time: 0.05659s\n",
      "\n",
      "\n",
      "Test Acc: 73.45%\n",
      "Data is saved...\n",
      "['Llama-2-13b-chat-hf', 'Llama-2-70b-chat-hf', 'Llama-2-7b-chat-hf', 'Mistral-7B-Instruct-v0.2', 'Mixtral-8x7B-Instruct-v0.1', 'gemma-2b', 'gemma-7b', 'phi-2']\n",
      "Truncating the space size\n",
      "Truncating the space size\n",
      "Dataset-0: gsm8k\n"
     ]
    },
    {
     "name": "stderr",
     "output_type": "stream",
     "text": [
      "100%|██████████| 2748/2748 [02:20<00:00, 19.62it/s]\n"
     ]
    },
    {
     "name": "stdout",
     "output_type": "stream",
     "text": [
      "Episode: 0, Total Acc: 70.66%, Action Counts: [ 896. 1358. 2034. 1412. 1574. 1309. 1129. 1491.], Avg Inf Time: 0.05075s\n"
     ]
    },
    {
     "name": "stderr",
     "output_type": "stream",
     "text": [
      "100%|██████████| 2748/2748 [02:21<00:00, 19.38it/s]\n"
     ]
    },
    {
     "name": "stdout",
     "output_type": "stream",
     "text": [
      "Episode: 1, Total Acc: 71.39%, Action Counts: [ 717. 1515. 2217. 1482. 1279. 1113.  972. 1892.], Avg Inf Time: 0.05135s\n"
     ]
    },
    {
     "name": "stderr",
     "output_type": "stream",
     "text": [
      "100%|██████████| 2748/2748 [02:21<00:00, 19.38it/s]\n"
     ]
    },
    {
     "name": "stdout",
     "output_type": "stream",
     "text": [
      "Episode: 2, Total Acc: 72.55%, Action Counts: [ 491. 1732. 2436. 1602.  944. 1028. 1339. 1984.], Avg Inf Time: 0.05137s\n"
     ]
    },
    {
     "name": "stderr",
     "output_type": "stream",
     "text": [
      "100%|██████████| 2748/2748 [02:21<00:00, 19.47it/s]\n"
     ]
    },
    {
     "name": "stdout",
     "output_type": "stream",
     "text": [
      "Episode: 3, Total Acc: 72.01%, Action Counts: [ 341. 1655. 2453. 1365.  987.  952. 1300. 1865.], Avg Inf Time: 0.05114s\n"
     ]
    },
    {
     "name": "stderr",
     "output_type": "stream",
     "text": [
      "100%|██████████| 2748/2748 [02:21<00:00, 19.48it/s]\n"
     ]
    },
    {
     "name": "stdout",
     "output_type": "stream",
     "text": [
      "Episode: 4, Total Acc: 73.03%, Action Counts: [ 386. 1666. 2309. 1129.  792.  842. 1435. 2163.], Avg Inf Time: 0.05112s\n"
     ]
    },
    {
     "name": "stderr",
     "output_type": "stream",
     "text": [
      "100%|██████████| 2748/2748 [02:21<00:00, 19.47it/s]\n"
     ]
    },
    {
     "name": "stdout",
     "output_type": "stream",
     "text": [
      "Episode: 5, Total Acc: 74.08%, Action Counts: [ 400. 1813. 2295. 1106.  801.  754. 1595. 2294.], Avg Inf Time: 0.05116s\n"
     ]
    },
    {
     "name": "stderr",
     "output_type": "stream",
     "text": [
      "100%|██████████| 2748/2748 [02:21<00:00, 19.37it/s]\n"
     ]
    },
    {
     "name": "stdout",
     "output_type": "stream",
     "text": [
      "Episode: 6, Total Acc: 72.92%, Action Counts: [ 403. 1838. 2458. 1121.  967. 1337. 1623. 2504.], Avg Inf Time: 0.05134s\n"
     ]
    },
    {
     "name": "stderr",
     "output_type": "stream",
     "text": [
      "100%|██████████| 2748/2748 [02:21<00:00, 19.43it/s]\n"
     ]
    },
    {
     "name": "stdout",
     "output_type": "stream",
     "text": [
      "Episode: 7, Total Acc: 75.25%, Action Counts: [ 259. 2227. 2430. 1064. 1398. 1056. 2107. 2567.], Avg Inf Time: 0.05124s\n"
     ]
    },
    {
     "name": "stderr",
     "output_type": "stream",
     "text": [
      "100%|██████████| 2748/2748 [02:23<00:00, 19.09it/s]\n"
     ]
    },
    {
     "name": "stdout",
     "output_type": "stream",
     "text": [
      "Episode: 8, Total Acc: 76.08%, Action Counts: [ 259. 2092. 2289.  778. 1281.  616. 2459. 2563.], Avg Inf Time: 0.05203s\n"
     ]
    },
    {
     "name": "stderr",
     "output_type": "stream",
     "text": [
      "100%|██████████| 2748/2748 [02:30<00:00, 18.24it/s]\n"
     ]
    },
    {
     "name": "stdout",
     "output_type": "stream",
     "text": [
      "Episode: 9, Total Acc: 76.56%, Action Counts: [ 268. 2122. 2252.  737. 1310.  659. 2533. 2452.], Avg Inf Time: 0.05451s\n"
     ]
    },
    {
     "name": "stderr",
     "output_type": "stream",
     "text": [
      "100%|██████████| 2748/2748 [01:48<00:00, 25.31it/s]\n"
     ]
    },
    {
     "name": "stdout",
     "output_type": "stream",
     "text": [
      "Episode: 0, Total Acc: 1.16%, Action Counts: [ 229. 2041. 2266.  726. 1065.  754. 2558. 2363.], Avg Inf Time: 0.03922s\n"
     ]
    },
    {
     "name": "stderr",
     "output_type": "stream",
     "text": [
      "100%|██████████| 2748/2748 [01:47<00:00, 25.45it/s]\n"
     ]
    },
    {
     "name": "stdout",
     "output_type": "stream",
     "text": [
      "Episode: 1, Total Acc: 0.40%, Action Counts: [ 213. 1985. 2241.  717. 1087.  856. 2554. 2409.], Avg Inf Time: 0.03899s\n"
     ]
    },
    {
     "name": "stderr",
     "output_type": "stream",
     "text": [
      "100%|██████████| 2748/2748 [01:48<00:00, 25.32it/s]\n"
     ]
    },
    {
     "name": "stdout",
     "output_type": "stream",
     "text": [
      "Episode: 2, Total Acc: 0.40%, Action Counts: [ 232. 2023. 2286.  732. 1052.  770. 2530. 2359.], Avg Inf Time: 0.03918s\n"
     ]
    },
    {
     "name": "stderr",
     "output_type": "stream",
     "text": [
      "100%|██████████| 2748/2748 [01:47<00:00, 25.47it/s]\n"
     ]
    },
    {
     "name": "stdout",
     "output_type": "stream",
     "text": [
      "Episode: 3, Total Acc: 0.40%, Action Counts: [ 220. 2022. 2256.  707. 1091.  741. 2548. 2353.], Avg Inf Time: 0.03897s\n"
     ]
    },
    {
     "name": "stderr",
     "output_type": "stream",
     "text": [
      "100%|██████████| 2748/2748 [01:47<00:00, 25.45it/s]\n"
     ]
    },
    {
     "name": "stdout",
     "output_type": "stream",
     "text": [
      "Episode: 4, Total Acc: 0.40%, Action Counts: [ 237. 2032. 2292.  741. 1090.  776. 2544. 2366.], Avg Inf Time: 0.03899s\n"
     ]
    },
    {
     "name": "stderr",
     "output_type": "stream",
     "text": [
      "100%|██████████| 2748/2748 [01:48<00:00, 25.43it/s]\n"
     ]
    },
    {
     "name": "stdout",
     "output_type": "stream",
     "text": [
      "Episode: 5, Total Acc: 0.40%, Action Counts: [ 239. 1997. 2251.  725. 1126.  809. 2576. 2380.], Avg Inf Time: 0.03901s\n"
     ]
    },
    {
     "name": "stderr",
     "output_type": "stream",
     "text": [
      "100%|██████████| 2748/2748 [01:47<00:00, 25.47it/s]\n"
     ]
    },
    {
     "name": "stdout",
     "output_type": "stream",
     "text": [
      "Episode: 6, Total Acc: 0.40%, Action Counts: [ 235. 2049. 2274.  693. 1062.  818. 2556. 2339.], Avg Inf Time: 0.03898s\n"
     ]
    },
    {
     "name": "stderr",
     "output_type": "stream",
     "text": [
      "100%|██████████| 2748/2748 [01:51<00:00, 24.72it/s]\n"
     ]
    },
    {
     "name": "stdout",
     "output_type": "stream",
     "text": [
      "Episode: 7, Total Acc: 0.40%, Action Counts: [ 218. 2033. 2234.  747. 1079.  786. 2512. 2358.], Avg Inf Time: 0.0401s\n"
     ]
    },
    {
     "name": "stderr",
     "output_type": "stream",
     "text": [
      "100%|██████████| 2748/2748 [01:53<00:00, 24.30it/s]\n"
     ]
    },
    {
     "name": "stdout",
     "output_type": "stream",
     "text": [
      "Episode: 8, Total Acc: 0.40%, Action Counts: [ 227. 2048. 2270.  701. 1145.  774. 2545. 2390.], Avg Inf Time: 0.04082s\n"
     ]
    },
    {
     "name": "stderr",
     "output_type": "stream",
     "text": [
      "100%|██████████| 2748/2748 [01:48<00:00, 25.22it/s]\n"
     ]
    },
    {
     "name": "stdout",
     "output_type": "stream",
     "text": [
      "Episode: 9, Total Acc: 38.70%, Action Counts: [ 244. 2077. 2308.  735. 1075.  766. 2548. 2398.], Avg Inf Time: 0.03926s\n",
      "Starting testing\n"
     ]
    },
    {
     "name": "stderr",
     "output_type": "stream",
     "text": [
      "100%|██████████| 1240/1240 [01:11<00:00, 17.27it/s]\n"
     ]
    },
    {
     "name": "stdout",
     "output_type": "stream",
     "text": [
      "Episode: 0, Total Acc: 76.35%, Action Counts: [ 127.  881. 1031.  290.  520.  361. 1169. 1074.], Avg Inf Time: 0.05762s\n",
      "\n",
      "\n",
      "Test Acc: 76.35%\n",
      "Data is saved...\n"
     ]
    }
   ],
   "source": [
    "from run import main\n",
    "\n",
    "test_scores = []\n",
    "for i in range(5):\n",
    "    test_score = main(args)\n",
    "    test_scores.append(test_score)"
   ]
  },
  {
   "cell_type": "code",
   "execution_count": 2,
   "metadata": {},
   "outputs": [
    {
     "name": "stdout",
     "output_type": "stream",
     "text": [
      "[76.43, 77.32, 74.09, 73.45, 76.35]\n"
     ]
    }
   ],
   "source": [
    "print(test_scores)"
   ]
  },
  {
   "cell_type": "code",
   "execution_count": 6,
   "metadata": {},
   "outputs": [
    {
     "name": "stdout",
     "output_type": "stream",
     "text": [
      "75.728\n"
     ]
    }
   ],
   "source": [
    "import numpy as np\n",
    "print(np.mean(test_scores))"
   ]
  },
  {
   "cell_type": "markdown",
   "metadata": {},
   "source": [
    "## MMLU Experiments with Additional 4 Models"
   ]
  },
  {
   "cell_type": "markdown",
   "metadata": {},
   "source": [
    "In addition to the model pool in the paper,\n",
    "```\n",
    "['Llama-2-13b-hf', 'Llama-2-70b-hf', 'Llama-2-7b-hf', 'Mistral-7B-Instruct-v0.2', 'Mixtral-8x7B-v0.1', 'gemma-2b', 'gemma-7b', 'phi-2']\n",
    "```\n",
    "\n",
    " we adding 4 strong models, 'Meta-Llama-3-70B', 'Mixtral-8x22B-v0.1', 'Qwen-72B', and 'deepseek-llm-67b' to create a diverse pool containing 12 models.\n",
    "\n",
    " ```\n",
    "['Llama-2-13b-hf', 'Llama-2-70b-hf', 'Llama-2-7b-hf', 'Meta-Llama-3-70B', 'Mistral-7B-Instruct-v0.2', 'Mixtral-8x22B-v0.1', 'Mixtral-8x7B-v0.1', 'Qwen-72B', 'deepseek-llm-67b', 'gemma-2b', 'gemma-7b', 'phi-2']\n",
    "```\n",
    "\n",
    "Below we show the test accuracy scores of base models predictions:\n"
   ]
  },
  {
   "cell_type": "code",
   "execution_count": 1,
   "metadata": {},
   "outputs": [
    {
     "name": "stderr",
     "output_type": "stream",
     "text": [
      "/home/selim/miniconda3/envs/mistral/lib/python3.10/site-packages/tqdm/auto.py:21: TqdmWarning: IProgress not found. Please update jupyter and ipywidgets. See https://ipywidgets.readthedocs.io/en/stable/user_install.html\n",
      "  from .autonotebook import tqdm as notebook_tqdm\n"
     ]
    },
    {
     "name": "stdout",
     "output_type": "stream",
     "text": [
      "['Llama-2-13b-hf', 'Llama-2-70b-hf', 'Llama-2-7b-hf', 'Meta-Llama-3-70B', 'Mistral-7B-Instruct-v0.2', 'Mixtral-8x22B-v0.1', 'Mixtral-8x7B-v0.1', 'Qwen-72B', 'deepseek-llm-67b', 'gemma-2b', 'gemma-7b', 'phi-2']\n",
      "(11233, 49) (2809, 49)\n",
      "\n",
      "Llama-2-13b-hf: 53.40\n",
      "Llama-2-70b-hf: 68.53\n",
      "Llama-2-7b-hf: 41.79\n",
      "Meta-Llama-3-70B: 77.29\n",
      "Mistral-7B-Instruct-v0.2: 59.67\n",
      "Mixtral-8x22B-v0.1: 76.36\n",
      "Mixtral-8x7B-v0.1: 70.42\n",
      "Qwen-72B: 75.01\n",
      "deepseek-llm-67b: 71.24\n",
      "gemma-2b: 40.26\n",
      "gemma-7b: 63.87\n",
      "phi-2: 55.82\n"
     ]
    }
   ],
   "source": [
    "import numpy as np\n",
    "from data_generator.data_loader import DataCreator\n",
    "\n",
    "datacreator = DataCreator(dataset_name=\"mmlu_hf\")\n",
    "\n",
    "for train_data, test_data, num_models, ds_name in datacreator.load():\n",
    "    print(train_data.shape, test_data.shape)\n",
    "    space_size = (train_data.shape[1] - 1) // num_models\n",
    "\n",
    "    novel_data = test_data[:, :-1]\n",
    "    novel_label = test_data[:, -1]\n",
    "    acc = []\n",
    "    for i, novel_arr in enumerate(np.split(novel_data, num_models, axis=1)):\n",
    "        pred = novel_arr.argmax(axis=1)\n",
    "        model_acc = np.mean(novel_label == pred)\n",
    "        acc.append(model_acc)\n",
    "    acc = np.array(acc)\n",
    "    print()\n",
    "    for i in range(len(acc)):\n",
    "        print(f\"{datacreator.model_names[i]}: {acc[i] * 100:.2f}\")"
   ]
  },
  {
   "cell_type": "markdown",
   "metadata": {},
   "source": [
    "### MMLU MARL-Focal with the new model pool"
   ]
  },
  {
   "cell_type": "code",
   "execution_count": null,
   "metadata": {},
   "outputs": [],
   "source": [
    "import sys\n",
    "import argparse\n",
    "\n",
    "# Running with the same model pool as LLM-TOPLA.\n",
    "parser = argparse.ArgumentParser()\n",
    "\n",
    "parser.add_argument(\"--device\", type=str, default=\"cuda\")\n",
    "parser.add_argument(\"--model_names\", type=str, default=\"all\")\n",
    "parser.add_argument(\"--dataset_type\", type=str, default=\"lang\", choices=[\"lang\", \"vision\"])\n",
    "parser.add_argument(\"--task_name\", type=str, default=\"mmlu_hf\", choices=[\"gsm8k\", \"mmlu_hf\", \"bbh\", \"gpqa\", \"musr\"])\n",
    "\n",
    "# select agent arguments\n",
    "parser.add_argument(\"--alpha\", type=float, default=1.0, help=\"size penalty constant\")\n",
    "parser.add_argument(\"--select_agent_epoch\", type=int, default=15)\n",
    "parser.add_argument(\"--select_agent_gamma\", type=float, default=0.99)\n",
    "parser.add_argument(\"--select_agent_clip_epsilon\", type=float, default=0.2)\n",
    "parser.add_argument(\"--select_agent_lr\", type=float, default=0.001)\n",
    "parser.add_argument(\"--focal_div_weight\", type=float, default=0.5)\n",
    "parser.add_argument(\"--plurality_voting_weight\", type=float, default=0.5)\n",
    "parser.add_argument(\"--fleiss_kappa_weight\", type=float, default=0)\n",
    "parser.add_argument(\"--q_stats_weight\", type=float, default=0)\n",
    "parser.add_argument(\"--corr_coef_weight\", type=float, default=0)\n",
    "parser.add_argument(\"--binary_disagreement_weight\", type=float, default=0)\n",
    "parser.add_argument(\"--kappa_stats_weight\", type=float, default=0)\n",
    "parser.add_argument(\"--binary_entropy_weight\", type=float, default=0)\n",
    "\n",
    "# ensemble agent arguments\n",
    "parser.add_argument(\"--ensemble_agent_epoch\", type=int, default=15)\n",
    "parser.add_argument(\"--ens_agent_gamma\", type=float, default=0.5)\n",
    "parser.add_argument(\"--ens_agent_clip_epsilon\", type=float, default=0.2)\n",
    "parser.add_argument(\"--ens_agent_lr\", type=float, default=0.001)\n",
    "\n",
    "# common argumentss for both agents\n",
    "parser.add_argument(\"--window_size\", type=int, default=500)\n",
    "parser.add_argument(\"--max_tolerance\", type=int, default=150)\n",
    "parser.add_argument(\"--update_freq\", type=int, default=100)\n",
    "\n",
    "\n",
    "# Simulate command-line arguments\n",
    "if 'ipykernel' in sys.modules:\n",
    "    sys.argv = ['notebook.py']  # Replace with desired arguments\n",
    "else:\n",
    "    sys.argv = ['script.py']\n",
    "\n",
    "# Parse the arguments\n",
    "args = parser.parse_args()"
   ]
  }
 ],
 "metadata": {
  "kernelspec": {
   "display_name": "mistral",
   "language": "python",
   "name": "python3"
  },
  "language_info": {
   "codemirror_mode": {
    "name": "ipython",
    "version": 3
   },
   "file_extension": ".py",
   "mimetype": "text/x-python",
   "name": "python",
   "nbconvert_exporter": "python",
   "pygments_lexer": "ipython3",
   "version": "3.10.13"
  }
 },
 "nbformat": 4,
 "nbformat_minor": 2
}
