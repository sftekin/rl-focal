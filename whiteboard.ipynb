{
 "cells": [
  {
   "cell_type": "code",
   "execution_count": 10,
   "metadata": {},
   "outputs": [
    {
     "name": "stdout",
     "output_type": "stream",
     "text": [
      "/storage/ice1/1/5/stekin6/rl-focal/results/checkpoints/exp_3\n"
     ]
    }
   ],
   "source": [
    "import glob\n",
    "\n",
    "import os\n",
    "from config import RESULTS_DIR\n",
    "\n",
    "checkpoint_dir = os.path.join(RESULTS_DIR, \"checkpoints\")\n",
    "\n",
    "cur_dirs = [f for f in glob.glob(os.path.join(checkpoint_dir, \"exp_*\"))]\n",
    "dir_name = os.path.join(checkpoint_dir, f\"exp_{len(cur_dirs)}\")\n",
    "print(dir_name)\n",
    "if not os.path.exists(dir_name):\n",
    "    os.makedirs(dir_name)\n"
   ]
  },
  {
   "cell_type": "code",
   "execution_count": null,
   "metadata": {},
   "outputs": [],
   "source": []
  }
 ],
 "metadata": {
  "kernelspec": {
   "display_name": "llamas",
   "language": "python",
   "name": "python3"
  },
  "language_info": {
   "codemirror_mode": {
    "name": "ipython",
    "version": 3
   },
   "file_extension": ".py",
   "mimetype": "text/x-python",
   "name": "python",
   "nbconvert_exporter": "python",
   "pygments_lexer": "ipython3",
   "version": "3.9.19"
  }
 },
 "nbformat": 4,
 "nbformat_minor": 2
}
